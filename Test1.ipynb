{
 "cells": [
  {
   "cell_type": "code",
   "execution_count": 1,
   "id": "cd0aa277-e779-4454-a588-6b8dac0f35e7",
   "metadata": {},
   "outputs": [],
   "source": [
    "import math\n",
    "\n",
    "import numpy as np\n",
    "\n",
    "import pandas as pd\n",
    "\n",
    "import matplotlib.pyplot as plt\n",
    "from matplotlib import gridspec\n",
    "\n",
    "from scipy.interpolate import InterpolatedUnivariateSpline\n",
    "\n",
    "from matplotlib import figure\n",
    "from ipywidgets import interact"
   ]
  },
  {
   "cell_type": "code",
   "execution_count": 2,
   "id": "9d6e0e84-8796-4e5e-8ea5-b5f8ba8d5293",
   "metadata": {},
   "outputs": [],
   "source": [
    "SNeff_path = 'MDet_yrs_vs_SNeff.csv'\n",
    "SNeff_file = open(SNeff_path, \"r\")\n",
    "\n",
    "MDet_years1 = []\n",
    "SNeffs1 = []\n",
    "\n",
    "lines = SNeff_file.readlines()\n",
    "for line in lines[6:36]:\n",
    "    vals = line.split(',')\n",
    "    MDet_years1.append(float(vals[2]))\n",
    "    SNeffs1.append(float(vals[3]))\n",
    "    \n",
    "\n",
    "MDet_to_SNeff = InterpolatedUnivariateSpline(MDet_years1, SNeffs1)"
   ]
  },
  {
   "cell_type": "code",
   "execution_count": 3,
   "id": "f1f6a81a-57c8-4c48-842e-27818021e2d7",
   "metadata": {},
   "outputs": [],
   "source": [
    "Freeze_path = 'Freeze_outs.csv'\n",
    "Freeze_file = open(Freeze_path, \"r\")\n",
    "\n",
    "SNeffs2 = []\n",
    "spin0 = []\n",
    "spin05 = []\n",
    "spin1 = []\n",
    "\n",
    "lines = Freeze_file.readlines()\n",
    "for line in lines[10:]:\n",
    "    vals = line.split(',')\n",
    "    SNeffs2.append(float(vals[0]))\n",
    "    \n",
    "    spin0.append(float(vals[1]))\n",
    "    spin05.append(float(vals[2]) if len(vals[2]) > 0 else math.nan)\n",
    "    spin1.append(float(vals[3]) if len(vals[3]) > 0 else math.nan)\n",
    "\n",
    "SNeff_to_spin0 = InterpolatedUnivariateSpline(SNeffs2, spin0)\n",
    "SNeff_to_spin05 = InterpolatedUnivariateSpline(SNeffs2[20:], spin05[20:])\n",
    "SNeff_to_spin1 = InterpolatedUnivariateSpline(SNeffs2[27:], spin1[27:])"
   ]
  },
  {
   "cell_type": "code",
   "execution_count": 8,
   "id": "bf665083-c0c6-4445-acc0-d619cfbb7822",
   "metadata": {},
   "outputs": [
    {
     "data": {
      "application/vnd.jupyter.widget-view+json": {
       "model_id": "89f63d07aedc4566bd1762838e68068d",
       "version_major": 2,
       "version_minor": 0
      },
      "text/plain": [
       "interactive(children=(Checkbox(value=True, description='SO_Used'), IntSlider(value=2026, description='SO_Start…"
      ]
     },
     "metadata": {},
     "output_type": "display_data"
    }
   ],
   "source": [
    "@interact\n",
    "def my_widget(SO_Used     = True , SO_Start     = (2024, 2028), \n",
    "              AdvSO_Used  = True , AdvSO_Start  = (2029, 2035), AdvSO_Duration  = (7,10),\n",
    "              CHLAT1_Used = True , CHLAT1_Start = (2030, 2035), CHLAT1_Duration = (10,20),\n",
    "              CHALT2_Used = False, CHLAT2_Start = (2030, 2035), CHLAT2_Duration = (10,20)   ):\n",
    "    \n",
    "    Detectors    = [0.031, 0.062  , 0.135    , 0.135    ] \n",
    "    Efficiencies = [0.9  , 0.9    , 1.0      , 1.0      ]\n",
    "    Names        = [\"SO\" , \"AdvSO\", \"CHLAT 1\", \"CHLAT 2\"]\n",
    "    \n",
    "    StartYears   = [SO_Start, AdvSO_Start,  CHLAT1_Start,  CHLAT2_Start]\n",
    "    Durations    = [AdvSO_Start-SO_Start,  AdvSO_Duration,  CHLAT1_Duration,  CHLAT2_Duration]\n",
    "    Used         = [SO_Used,  AdvSO_Used,  CHLAT1_Used,  CHALT2_Used]\n",
    "\n",
    "    FirstYear = np.min(StartYears)\n",
    "    LastYear = np.max(np.add(StartYears,Durations))\n",
    "\n",
    "    increment = 1/365\n",
    "\n",
    "    years = np.arange(2024, 2037, increment)\n",
    "    dates = pd.date_range(start = '2024-01-01', end = '2037-01-01', freq = 'D')\n",
    "    det_times = []\n",
    "    total_det_time = 0\n",
    "\n",
    "    for date in years:\n",
    "        for i in range(len(Detectors)):\n",
    "            if Used[i]:\n",
    "                if date >= StartYears[i] and date <= StartYears[i] + Durations[i]:\n",
    "                    total_det_time += Detectors[i]*Efficiencies[i]*increment\n",
    "\n",
    "        det_times.append(total_det_time)\n",
    "\n",
    "    These_SNeffs = MDet_to_SNeff(det_times)\n",
    "\n",
    "    These_spin0s = SNeff_to_spin0(These_SNeffs)\n",
    "    These_spin05s = SNeff_to_spin05(These_SNeffs)\n",
    "    These_spin1s = SNeff_to_spin1(These_SNeffs)\n",
    "\n",
    "\n",
    "    #===============================================================================================\n",
    "\n",
    "\n",
    "    %matplotlib inline\n",
    "\n",
    "    fig = plt.figure(figsize=(20, 10), dpi=100, constrained_layout=False)\n",
    "    #fig.suptitle('Time-series Comparason', fontsize=24)\n",
    "    gs1 = fig.add_gridspec(nrows = 1, ncols = 1, wspace=0.001) \n",
    "\n",
    "    ax0 = plt.subplot(gs1[0, 0])\n",
    "\n",
    "    ax0.plot(years[:], These_spin0s[:], label='Spin 0')\n",
    "    ax0.plot(years[:], These_spin05s[:], label='Spin 1/2')\n",
    "    ax0.plot(years[:], These_spin1s[:], label='Spin 1')\n",
    "\n",
    "    for i in range(len(StartYears)):\n",
    "        ax0.plot((StartYears[i], StartYears[i]), (100, 10000), scaley = False, c = \"#878787\")\n",
    "        ax0.text(StartYears[i] - 0.25, 12000, Names[i], rotation = 90, fontsize = 23, c = \"#878787\")\n",
    "\n",
    "    ax0.set_yscale('log')\n",
    "\n",
    "    ax0.set_xlabel('Year', fontsize = 30)\n",
    "    ax0.set_ylabel('Freeze Out Temp [MeV]', fontsize = 30)\n",
    "    ax0.tick_params(axis='x', labelsize=23)\n",
    "    ax0.tick_params(axis='y', labelsize=23)\n",
    "\n",
    "    ax0.legend()\n",
    "\n",
    "    # fig.tight_layout()\n",
    "    fig.savefig(\"Test-Timeline-Graph.png\")\n",
    "    plt.show()"
   ]
  },
  {
   "cell_type": "code",
   "execution_count": null,
   "id": "d1ca8bf5-f4d3-452e-81a1-7cd0152e27da",
   "metadata": {},
   "outputs": [],
   "source": []
  }
 ],
 "metadata": {
  "kernelspec": {
   "display_name": "Python 3",
   "language": "python",
   "name": "python3"
  },
  "language_info": {
   "codemirror_mode": {
    "name": "ipython",
    "version": 3
   },
   "file_extension": ".py",
   "mimetype": "text/x-python",
   "name": "python",
   "nbconvert_exporter": "python",
   "pygments_lexer": "ipython3",
   "version": "3.8.8"
  }
 },
 "nbformat": 4,
 "nbformat_minor": 5
}
