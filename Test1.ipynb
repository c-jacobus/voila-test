{
 "cells": [
  {
   "cell_type": "code",
   "execution_count": 1,
   "id": "52d2e0ac",
   "metadata": {},
   "outputs": [
    {
     "data": {
      "application/vnd.jupyter.widget-view+json": {
       "model_id": "16d4a91953ff4d08b5509bb93410921f",
       "version_major": 2,
       "version_minor": 0
      },
      "text/plain": [
       "interactive(children=(FloatSlider(value=2.0, description='c', max=3.0, min=1.0), FloatSlider(value=1.0, descri…"
      ]
     },
     "metadata": {},
     "output_type": "display_data"
    }
   ],
   "source": [
    "import math\n",
    "import numpy as np\n",
    "import matplotlib.pyplot as plt\n",
    "from matplotlib import figure\n",
    "from ipywidgets import interact\n",
    "\n",
    "\n",
    "@interact\n",
    "def sinewave(c = (1.0,3.0), a = 1.0, o = True):\n",
    "\n",
    "    p = np.linspace(0, 2*math.pi, 100)\n",
    "    y = a*np.sin(p*c)\n",
    "    \n",
    "    plt.plot(p, y)\n",
    "    if o:\n",
    "        plt.plot(p, -y)\n",
    "    plt.ylabel('sin(x)')\n",
    "    plt.xlabel('x')\n",
    "    plt.title('Sinwave function')\n",
    "    return plt.figure()"
   ]
  },
  {
   "cell_type": "code",
   "execution_count": null,
   "id": "b2c87fa4",
   "metadata": {},
   "outputs": [],
   "source": []
  }
 ],
 "metadata": {
  "kernelspec": {
   "display_name": "Python 3",
   "language": "python",
   "name": "python3"
  },
  "language_info": {
   "codemirror_mode": {
    "name": "ipython",
    "version": 3
   },
   "file_extension": ".py",
   "mimetype": "text/x-python",
   "name": "python",
   "nbconvert_exporter": "python",
   "pygments_lexer": "ipython3",
   "version": "3.8.8"
  }
 },
 "nbformat": 4,
 "nbformat_minor": 5
}
